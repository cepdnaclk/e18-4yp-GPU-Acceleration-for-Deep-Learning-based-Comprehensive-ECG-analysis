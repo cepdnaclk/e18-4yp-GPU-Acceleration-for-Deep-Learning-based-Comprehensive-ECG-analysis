{
 "cells": [
  {
   "cell_type": "code",
   "execution_count": 15,
   "metadata": {},
   "outputs": [],
   "source": [
    "# Move this file to root. otherwise import wont work\n",
    "from datasets.PTB_XL.PTB_XL_ECG_Dataset import ECGDataset\n",
    "\n",
    "dataset = ECGDataset()"
   ]
  },
  {
   "cell_type": "code",
   "execution_count": 14,
   "metadata": {},
   "outputs": [
    {
     "name": "stdout",
     "output_type": "stream",
     "text": [
      "Class 4: 9069 samples\n",
      "Class 1: 2532 samples\n",
      "Class 2: 2400 samples\n",
      "Class 5: 1708 samples\n",
      "Class 3: 535 samples\n"
     ]
    }
   ],
   "source": [
    "counts = {}\n",
    "for each in dataset:\n",
    "    input, label = each\n",
    "    label = list(label)\n",
    "    max_index = label.index(max(label)) +1 \n",
    "    try:\n",
    "        counts[max_index] += 1\n",
    "    except KeyError:\n",
    "        counts[max_index] = 1\n",
    "\n",
    "\n",
    "# sort the dictionary by value\n",
    "counts = dict(sorted(counts.items(), key=lambda item: item[1], reverse=True))\n",
    "\n",
    "for key, value in counts.items():\n",
    "    print(f'Class {key}: {value} samples')\n",
    "    "
   ]
  },
  {
   "cell_type": "code",
   "execution_count": null,
   "metadata": {},
   "outputs": [],
   "source": []
  }
 ],
 "metadata": {
  "kernelspec": {
   "display_name": "Python 3",
   "language": "python",
   "name": "python3"
  },
  "language_info": {
   "codemirror_mode": {
    "name": "ipython",
    "version": 3
   },
   "file_extension": ".py",
   "mimetype": "text/x-python",
   "name": "python",
   "nbconvert_exporter": "python",
   "pygments_lexer": "ipython3",
   "version": "3.10.11"
  }
 },
 "nbformat": 4,
 "nbformat_minor": 2
}
