{
 "cells": [
  {
   "cell_type": "code",
   "execution_count": 1,
   "metadata": {},
   "outputs": [],
   "source": [
    "import torch\n",
    "import torch.nn as nn\n"
   ]
  },
  {
   "cell_type": "code",
   "execution_count": 8,
   "metadata": {},
   "outputs": [
    {
     "name": "stdout",
     "output_type": "stream",
     "text": [
      "Total L1 Loss: 5.0\n"
     ]
    }
   ],
   "source": [
    "# Dummy input and target tensors\n",
    "input = torch.tensor([[0]],dtype=torch.float32)\n",
    "target = torch.tensor([[5]],dtype=torch.float32)\n",
    "\n",
    "# Create a loss function\n",
    "loss_fn = nn.L1Loss()\n",
    "\n",
    "# Calculate the L1 loss\n",
    "l1_loss = loss_fn(input, target)\n",
    "\n",
    "# Print the total L1 loss\n",
    "print(f\"Total L1 Loss: {l1_loss.item()}\")"
   ]
  },
  {
   "cell_type": "code",
   "execution_count": 9,
   "metadata": {},
   "outputs": [
    {
     "name": "stdout",
     "output_type": "stream",
     "text": [
      "Total L1 Loss: 5.0\n"
     ]
    }
   ],
   "source": [
    "# Dummy input and target tensors\n",
    "input = torch.tensor([[0], [0]],dtype=torch.float32)\n",
    "target = torch.tensor([[5], [5]],dtype=torch.float32)\n",
    "\n",
    "# Create a loss function\n",
    "loss_fn = nn.L1Loss()\n",
    "\n",
    "# Calculate the L1 loss\n",
    "l1_loss = loss_fn(input, target)\n",
    "\n",
    "# Print the total L1 loss\n",
    "print(f\"Total L1 Loss: {l1_loss.item()}\")"
   ]
  },
  {
   "cell_type": "code",
   "execution_count": 10,
   "metadata": {},
   "outputs": [
    {
     "name": "stdout",
     "output_type": "stream",
     "text": [
      "Total L1 Loss: 5.0\n"
     ]
    }
   ],
   "source": [
    "# Dummy input and target tensors\n",
    "input = torch.tensor([[0], [0], [0]],dtype=torch.float32)\n",
    "target = torch.tensor([[5], [5], [5]],dtype=torch.float32)\n",
    "\n",
    "# Create a loss function\n",
    "loss_fn = nn.L1Loss()\n",
    "\n",
    "# Calculate the L1 loss\n",
    "l1_loss = loss_fn(input, target)\n",
    "\n",
    "# Print the total L1 loss\n",
    "print(f\"Total L1 Loss: {l1_loss.item()}\")"
   ]
  },
  {
   "cell_type": "markdown",
   "metadata": {},
   "source": [
    "# L1loss gives the MAE by dividing from the batch_size"
   ]
  }
 ],
 "metadata": {
  "kernelspec": {
   "display_name": "Python 3",
   "language": "python",
   "name": "python3"
  },
  "language_info": {
   "codemirror_mode": {
    "name": "ipython",
    "version": 3
   },
   "file_extension": ".py",
   "mimetype": "text/x-python",
   "name": "python",
   "nbconvert_exporter": "python",
   "pygments_lexer": "ipython3",
   "version": "3.10.11"
  }
 },
 "nbformat": 4,
 "nbformat_minor": 2
}
