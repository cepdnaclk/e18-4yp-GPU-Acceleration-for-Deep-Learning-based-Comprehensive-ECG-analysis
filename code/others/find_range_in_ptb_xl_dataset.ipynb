{
 "cells": [
  {
   "cell_type": "code",
   "execution_count": 1,
   "metadata": {},
   "outputs": [
    {
     "name": "stderr",
     "output_type": "stream",
     "text": [
      "Reading data files: 100%|██████████| 9514/9514 [00:49<00:00, 191.37it/s]\n",
      "c:\\Users\\IshanFernando\\Desktop\\clones\\e18-4yp-GPU-Acceleration-for-Deep-Learning-based-Comprehensive-ECG-analysis\\code\\datasets\\PTB_XL_Plus\\PTB_XL_PLUS_ECG_Dataset.py:72: UserWarning: Creating a tensor from a list of numpy.ndarrays is extremely slow. Please consider converting the list to a single numpy.ndarray with numpy.array() before converting to a tensor. (Triggered internally at ..\\torch\\csrc\\utils\\tensor_new.cpp:264.)\n",
      "  self.X = torch.tensor(\n"
     ]
    },
    {
     "name": "stdout",
     "output_type": "stream",
     "text": [
      "07:31:04 AM - big stuff read done\n"
     ]
    }
   ],
   "source": [
    "import os\n",
    "from tqdm import tqdm\n",
    "\n",
    "from datasets.PTB_XL_Plus.PTB_XL_PLUS_ECG_Dataset import PTB_XL_PLUS_ECGDataset\n",
    "from datasets.PTB_XL_Plus.PTB_XL_PLUS_ECG_Dataset import HR_PARAMETER\n",
    "\n",
    "\"\"\"\n",
    "Find the range of the ptb-xl dataset in order to normalize it\n",
    "\"\"\"\n",
    "\n",
    "dataset = PTB_XL_PLUS_ECGDataset(parameter=HR_PARAMETER)\n"
   ]
  },
  {
   "cell_type": "code",
   "execution_count": 8,
   "metadata": {},
   "outputs": [
    {
     "name": "stdout",
     "output_type": "stream",
     "text": [
      "tensor(28.2170)\n",
      "tensor(-31.8960)\n"
     ]
    }
   ],
   "source": [
    "maxValue = float('-inf')\n",
    "minValue = float('inf')\n",
    "\n",
    "for x in range(len(dataset)):\n",
    "    values, parameter = dataset[x]\n",
    "    maxValue = max(maxValue, values.max())\n",
    "    minValue = min(minValue, values.min())\n",
    "    \n",
    "print(maxValue)\n",
    "print(minValue)"
   ]
  }
 ],
 "metadata": {
  "kernelspec": {
   "display_name": "Python 3",
   "language": "python",
   "name": "python3"
  },
  "language_info": {
   "codemirror_mode": {
    "name": "ipython",
    "version": 3
   },
   "file_extension": ".py",
   "mimetype": "text/x-python",
   "name": "python",
   "nbconvert_exporter": "python",
   "pygments_lexer": "ipython3",
   "version": "3.10.11"
  }
 },
 "nbformat": 4,
 "nbformat_minor": 2
}
